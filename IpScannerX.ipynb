{
  "nbformat": 4,
  "nbformat_minor": 0,
  "metadata": {
    "colab": {
      "provenance": []
    },
    "kernelspec": {
      "name": "python3",
      "display_name": "Python 3"
    },
    "language_info": {
      "name": "python"
    }
  },
  "cells": [
    {
      "cell_type": "code",
      "source": [
        "import subprocess\n",
        "import threading\n",
        "import platform\n",
        "\n",
        "# Function to ping an IP address\n",
        "def ping_ip(ip, active_ips):\n",
        "    try:\n",
        "        # Use the appropriate ping command based on the OS\n",
        "        param = '-n' if platform.system().lower()=='windows' else '-c'\n",
        "        command = ['ping', param, '1', ip]\n",
        "\n",
        "        # Execute the ping command\n",
        "        result = subprocess.run(command, stdout=subprocess.PIPE, stderr=subprocess.PIPE)\n",
        "        if result.returncode == 0:\n",
        "            active_ips.append(ip)\n",
        "    except Exception as e:\n",
        "        print(f\"Error pinging IP {ip}: {e}\")\n",
        "\n",
        "# Function to scan a range of IP addresses\n",
        "def scan_ips(network_prefix, start_range, end_range):\n",
        "    threads = []\n",
        "    active_ips = []\n",
        "\n",
        "    for i in range(start_range, end_range + 1):\n",
        "        ip = f\"{network_prefix}.{i}\"\n",
        "        thread = threading.Thread(target=ping_ip, args=(ip, active_ips))\n",
        "        threads.append(thread)\n",
        "        thread.start()\n",
        "\n",
        "        # Limit the number of active threads to avoid overwhelming the system\n",
        "        if len(threads) >= 1000:  # Adjust based on your system's capabilities\n",
        "            for thread in threads:\n",
        "                thread.join()\n",
        "            threads = []\n",
        "\n",
        "    for thread in threads:\n",
        "        thread.join()\n",
        "\n",
        "    return active_ips\n",
        "\n",
        "if __name__ == \"__main__\":\n",
        "    network_prefix = input(\"Enter the network prefix (e.g., 192.168.1): \")\n",
        "    start_range = int(input(\"Enter the start range: \"))\n",
        "    end_range = int(input(\"Enter the end range: \"))\n",
        "\n",
        "    print(f\"Scanning IP range {network_prefix}.{start_range}-{end_range}...\")\n",
        "    active_ips = scan_ips(network_prefix, start_range, end_range)\n",
        "\n",
        "    if active_ips:\n",
        "        print(\"Active IP addresses:\")\n",
        "        for ip in active_ips:\n",
        "            print(ip)\n",
        "    else:\n",
        "        print(\"No active IP addresses found.\")\n",
        "    print(\"Scan complete.\")\n"
      ],
      "metadata": {
        "id": "Sbo-a9avFdeH"
      },
      "execution_count": null,
      "outputs": []
    }
  ]
}